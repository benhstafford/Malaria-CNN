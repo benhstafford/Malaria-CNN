{
 "cells": [
  {
   "cell_type": "markdown",
   "metadata": {},
   "source": [
    "# Malaria Classification CNN"
   ]
  },
  {
   "cell_type": "markdown",
   "metadata": {},
   "source": [
    "The following dataset consists of PNG images of uninfected cells and cells infected with malaria. The dataset is taken from the NIH website: https://lhncbc.nlm.nih.gov/publication/pub9932\n",
    "\n",
    "The goal here is to train a deep neural network to be able to classify the images as infected(parasitized) or uninfected.\n",
    "\n",
    "The Notebook consists of the following sections:\n",
    "1. Data import\n",
    "2. Visualisation\n",
    "3. Generation of additional data\n",
    "4. Creating the CNN model\n",
    "5. Training the model\n",
    "6. Evaluating the model\n",
    "\n",
    "This notebook was written with help from Jose Portilla's Tensorflow 2 course"
   ]
  },
  {
   "cell_type": "markdown",
   "metadata": {},
   "source": [
    "## 1. Data import"
   ]
  },
  {
   "cell_type": "markdown",
   "metadata": {},
   "source": [
    "First we will import all the required libraries."
   ]
  },
  {
   "cell_type": "code",
   "execution_count": 69,
   "metadata": {},
   "outputs": [],
   "source": [
    "import os\n",
    "import pandas as pd\n",
    "import numpy as np\n",
    "import seaborn as sns\n",
    "import matplotlib.pyplot as plt\n",
    "from matplotlib.image import imread"
   ]
  },
  {
   "cell_type": "markdown",
   "metadata": {},
   "source": [
    "Now we need to find the paths to the data"
   ]
  },
  {
   "cell_type": "code",
   "execution_count": 70,
   "metadata": {},
   "outputs": [],
   "source": [
    "data_dir = 'cell_images'"
   ]
  },
  {
   "cell_type": "code",
   "execution_count": 71,
   "metadata": {},
   "outputs": [
    {
     "data": {
      "text/plain": [
       "['test', 'train']"
      ]
     },
     "execution_count": 71,
     "metadata": {},
     "output_type": "execute_result"
    }
   ],
   "source": [
    "os.listdir(data_dir)"
   ]
  },
  {
   "cell_type": "markdown",
   "metadata": {},
   "source": [
    "The image data directory is split into test and train folders. Now we need the paths of the labelled samples."
   ]
  },
  {
   "cell_type": "code",
   "execution_count": 72,
   "metadata": {},
   "outputs": [],
   "source": [
    "test_path = data_dir+'\\\\test\\\\'\n",
    "train_path = data_dir+'\\\\train\\\\'"
   ]
  },
  {
   "cell_type": "code",
   "execution_count": 73,
   "metadata": {},
   "outputs": [
    {
     "data": {
      "text/plain": [
       "'cell_images\\\\test\\\\'"
      ]
     },
     "execution_count": 73,
     "metadata": {},
     "output_type": "execute_result"
    }
   ],
   "source": [
    "test_path"
   ]
  },
  {
   "cell_type": "code",
   "execution_count": 74,
   "metadata": {},
   "outputs": [
    {
     "data": {
      "text/plain": [
       "'cell_images\\\\train\\\\'"
      ]
     },
     "execution_count": 74,
     "metadata": {},
     "output_type": "execute_result"
    }
   ],
   "source": [
    "train_path"
   ]
  },
  {
   "cell_type": "code",
   "execution_count": 75,
   "metadata": {},
   "outputs": [
    {
     "data": {
      "text/plain": [
       "['parasitized', 'uninfected']"
      ]
     },
     "execution_count": 75,
     "metadata": {},
     "output_type": "execute_result"
    }
   ],
   "source": [
    "os.listdir(test_path)"
   ]
  },
  {
   "cell_type": "code",
   "execution_count": 76,
   "metadata": {},
   "outputs": [
    {
     "data": {
      "text/plain": [
       "['parasitized', 'uninfected']"
      ]
     },
     "execution_count": 76,
     "metadata": {},
     "output_type": "execute_result"
    }
   ],
   "source": [
    "os.listdir(train_path)"
   ]
  },
  {
   "cell_type": "markdown",
   "metadata": {},
   "source": [
    "So both train and test folders have two subfolders: parasitized and uninfected. These are the two classes to identify"
   ]
  },
  {
   "cell_type": "markdown",
   "metadata": {},
   "source": [
    "## 2. Visualisation"
   ]
  },
  {
   "cell_type": "markdown",
   "metadata": {},
   "source": [
    "Let's look at a sample image. First we get the path, then the image array and finally the image."
   ]
  },
  {
   "cell_type": "code",
   "execution_count": 77,
   "metadata": {},
   "outputs": [
    {
     "data": {
      "text/plain": [
       "'C100P61ThinF_IMG_20150918_144348_cell_144.png'"
      ]
     },
     "execution_count": 77,
     "metadata": {},
     "output_type": "execute_result"
    }
   ],
   "source": [
    "os.listdir(test_path+'parasitized')[0]"
   ]
  },
  {
   "cell_type": "code",
   "execution_count": 78,
   "metadata": {},
   "outputs": [],
   "source": [
    "example_para_cell = test_path+'parasitized\\\\'+'C100P61ThinF_IMG_20150918_144348_cell_144.png'"
   ]
  },
  {
   "cell_type": "code",
   "execution_count": 79,
   "metadata": {},
   "outputs": [
    {
     "data": {
      "text/plain": [
       "'cell_images\\\\test\\\\parasitized\\\\C100P61ThinF_IMG_20150918_144348_cell_144.png'"
      ]
     },
     "execution_count": 79,
     "metadata": {},
     "output_type": "execute_result"
    }
   ],
   "source": [
    "example_para_cell"
   ]
  },
  {
   "cell_type": "code",
   "execution_count": 80,
   "metadata": {},
   "outputs": [
    {
     "data": {
      "text/plain": [
       "array([[[0., 0., 0.],\n",
       "        [0., 0., 0.],\n",
       "        [0., 0., 0.],\n",
       "        ...,\n",
       "        [0., 0., 0.],\n",
       "        [0., 0., 0.],\n",
       "        [0., 0., 0.]],\n",
       "\n",
       "       [[0., 0., 0.],\n",
       "        [0., 0., 0.],\n",
       "        [0., 0., 0.],\n",
       "        ...,\n",
       "        [0., 0., 0.],\n",
       "        [0., 0., 0.],\n",
       "        [0., 0., 0.]],\n",
       "\n",
       "       [[0., 0., 0.],\n",
       "        [0., 0., 0.],\n",
       "        [0., 0., 0.],\n",
       "        ...,\n",
       "        [0., 0., 0.],\n",
       "        [0., 0., 0.],\n",
       "        [0., 0., 0.]],\n",
       "\n",
       "       ...,\n",
       "\n",
       "       [[0., 0., 0.],\n",
       "        [0., 0., 0.],\n",
       "        [0., 0., 0.],\n",
       "        ...,\n",
       "        [0., 0., 0.],\n",
       "        [0., 0., 0.],\n",
       "        [0., 0., 0.]],\n",
       "\n",
       "       [[0., 0., 0.],\n",
       "        [0., 0., 0.],\n",
       "        [0., 0., 0.],\n",
       "        ...,\n",
       "        [0., 0., 0.],\n",
       "        [0., 0., 0.],\n",
       "        [0., 0., 0.]],\n",
       "\n",
       "       [[0., 0., 0.],\n",
       "        [0., 0., 0.],\n",
       "        [0., 0., 0.],\n",
       "        ...,\n",
       "        [0., 0., 0.],\n",
       "        [0., 0., 0.],\n",
       "        [0., 0., 0.]]], dtype=float32)"
      ]
     },
     "execution_count": 80,
     "metadata": {},
     "output_type": "execute_result"
    }
   ],
   "source": [
    "imread(example_para_cell)"
   ]
  },
  {
   "cell_type": "code",
   "execution_count": 81,
   "metadata": {},
   "outputs": [
    {
     "data": {
      "text/plain": [
       "(136, 133, 3)"
      ]
     },
     "execution_count": 81,
     "metadata": {},
     "output_type": "execute_result"
    }
   ],
   "source": [
    "imread(example_para_cell).shape"
   ]
  },
  {
   "cell_type": "markdown",
   "metadata": {},
   "source": [
    "So the image is 136 x 133 pixels with three colour channels: red green blue"
   ]
  },
  {
   "cell_type": "code",
   "execution_count": 82,
   "metadata": {},
   "outputs": [
    {
     "data": {
      "text/plain": [
       "<matplotlib.image.AxesImage at 0x1e6e1854cc8>"
      ]
     },
     "execution_count": 82,
     "metadata": {},
     "output_type": "execute_result"
    },
    {
     "data": {
      "image/png": "[encoded data removed]",
      "text/plain": [
       "<Figure size 432x288 with 1 Axes>"
      ]
     },
     "metadata": {
      "needs_background": "light"
     },
     "output_type": "display_data"
    }
   ],
   "source": [
    "plt.imshow(imread(example_para_cell))"
   ]
  },
  {
   "cell_type": "markdown",
   "metadata": {},
   "source": [
    "This is what a parasitized cell looks like. Now let's do the same for an uninfected cell"
   ]
  },
  {
   "cell_type": "code",
   "execution_count": 83,
   "metadata": {},
   "outputs": [
    {
     "data": {
      "text/plain": [
       "'C100P61ThinF_IMG_20150918_144104_cell_34.png'"
      ]
     },
     "execution_count": 83,
     "metadata": {},
     "output_type": "execute_result"
    }
   ],
   "source": [
    "os.listdir(test_path+'uninfected')[0]"
   ]
  },
  {
   "cell_type": "code",
   "execution_count": 84,
   "metadata": {},
   "outputs": [],
   "source": [
    "example_uninf_cell = test_path+'uninfected\\\\'+'C100P61ThinF_IMG_20150918_144104_cell_34.png'"
   ]
  },
  {
   "cell_type": "code",
   "execution_count": 85,
   "metadata": {},
   "outputs": [
    {
     "data": {
      "text/plain": [
       "(118, 118, 3)"
      ]
     },
     "execution_count": 85,
     "metadata": {},
     "output_type": "execute_result"
    }
   ],
   "source": [
    "imread(example_uninf_cell).shape"
   ]
  },
  {
   "cell_type": "code",
   "execution_count": 86,
   "metadata": {},
   "outputs": [
    {
     "data": {
      "text/plain": [
       "<matplotlib.image.AxesImage at 0x1e6e18f7308>"
      ]
     },
     "execution_count": 86,
     "metadata": {},
     "output_type": "execute_result"
    },
    {
     "data": {
      "image/png": "[encoded data removed]",
      "text/plain": [
       "<Figure size 432x288 with 1 Axes>"
      ]
     },
     "metadata": {
      "needs_background": "light"
     },
     "output_type": "display_data"
    }
   ],
   "source": [
    "plt.imshow(imread(example_uninf_cell))"
   ]
  },
  {
   "cell_type": "markdown",
   "metadata": {},
   "source": [
    "The uninfected cell was a different size, 118 x 118 pixels, and looks quite different."
   ]
  },
  {
   "cell_type": "markdown",
   "metadata": {},
   "source": [
    "Next, let's find out the number of images and the distribution of image sizes"
   ]
  },
  {
   "cell_type": "code",
   "execution_count": 87,
   "metadata": {},
   "outputs": [
    {
     "data": {
      "text/plain": [
       "12480"
      ]
     },
     "execution_count": 87,
     "metadata": {},
     "output_type": "execute_result"
    }
   ],
   "source": [
    "len(os.listdir(train_path+'parasitized'))"
   ]
  },
  {
   "cell_type": "code",
   "execution_count": 88,
   "metadata": {},
   "outputs": [
    {
     "data": {
      "text/plain": [
       "12480"
      ]
     },
     "execution_count": 88,
     "metadata": {},
     "output_type": "execute_result"
    }
   ],
   "source": [
    "len(os.listdir(train_path+'uninfected'))"
   ]
  },
  {
   "cell_type": "code",
   "execution_count": 89,
   "metadata": {},
   "outputs": [
    {
     "data": {
      "text/plain": [
       "1300"
      ]
     },
     "execution_count": 89,
     "metadata": {},
     "output_type": "execute_result"
    }
   ],
   "source": [
    "len(os.listdir(test_path+'parasitized'))"
   ]
  },
  {
   "cell_type": "code",
   "execution_count": 90,
   "metadata": {},
   "outputs": [
    {
     "data": {
      "text/plain": [
       "1300"
      ]
     },
     "execution_count": 90,
     "metadata": {},
     "output_type": "execute_result"
    }
   ],
   "source": [
    "len(os.listdir(test_path+'uninfected'))"
   ]
  },
  {
   "cell_type": "code",
   "execution_count": 91,
   "metadata": {},
   "outputs": [],
   "source": [
    "dim1 = []\n",
    "dim2 = []\n",
    "\n",
    "for image_name in os.listdir(test_path+'uninfected'):\n",
    "    image_path = test_path+'uninfected\\\\'+image_name\n",
    "    d1, d2, col = imread(image_path).shape\n",
    "    dim1.append(d1)\n",
    "    dim2.append(d2)\n"
   ]
  },
  {
   "cell_type": "code",
   "execution_count": 92,
   "metadata": {},
   "outputs": [
    {
     "data": {
      "text/plain": [
       "[118,\n",
       " 172,\n",
       " 130,\n",
       " 163,\n",
       " 172,\n",
       " 139,\n",
       " 151,\n",
       " 160,\n",
       " 145,\n",
       " 127,\n",
       " 121,\n",
       " 154,\n",
       " 145,\n",
       " 127,\n",
       " 154,\n",
       " 151,\n",
       " 148,\n",
       " 130,\n",
       " 160,\n",
       " 136,\n",
       " 139,\n",
       " 190,\n",
       " 127,\n",
       " 133,\n",
       " 136,\n",
       " 124,\n",
       " 151,\n",
       " 151,\n",
       " 151,\n",
       " 160,\n",
       " 118,\n",
       " 154,\n",
       " 154,\n",
       " 121,\n",
       " 127,\n",
       " 118,\n",
       " 130,\n",
       " 124,\n",
       " 163,\n",
       " 88,\n",
       " 139,\n",
       " 127,\n",
       " 121,\n",
       " 139,\n",
       " 166,\n",
       " 133,\n",
       " 124,\n",
       " 154,\n",
       " 139,\n",
       " 127,\n",
       " 124,\n",
       " 136,\n",
       " 166,\n",
       " 133,\n",
       " 145,\n",
       " 157,\n",
       " 181,\n",
       " 148,\n",
       " 112,\n",
       " 124,\n",
       " 112,\n",
       " 106,\n",
       " 121,\n",
       " 148,\n",
       " 148,\n",
       " 112,\n",
       " 121,\n",
       " 148,\n",
       " 97,\n",
       " 112,\n",
       " 142,\n",
       " 118,\n",
       " 130,\n",
       " 151,\n",
       " 133,\n",
       " 136,\n",
       " 115,\n",
       " 145,\n",
       " 115,\n",
       " 142,\n",
       " 136,\n",
       " 130,\n",
       " 142,\n",
       " 124,\n",
       " 142,\n",
       " 136,\n",
       " 166,\n",
       " 148,\n",
       " 136,\n",
       " 142,\n",
       " 133,\n",
       " 130,\n",
       " 139,\n",
       " 124,\n",
       " 139,\n",
       " 121,\n",
       " 130,\n",
       " 142,\n",
       " 133,\n",
       " 118,\n",
       " 157,\n",
       " 127,\n",
       " 109,\n",
       " 112,\n",
       " 139,\n",
       " 142,\n",
       " 142,\n",
       " 112,\n",
       " 118,\n",
       " 100,\n",
       " 127,\n",
       " 145,\n",
       " 136,\n",
       " 160,\n",
       " 187,\n",
       " 130,\n",
       " 130,\n",
       " 157,\n",
       " 130,\n",
       " 130,\n",
       " 151,\n",
       " 175,\n",
       " 145,\n",
       " 136,\n",
       " 157,\n",
       " 133,\n",
       " 127,\n",
       " 154,\n",
       " 133,\n",
       " 151,\n",
       " 130,\n",
       " 136,\n",
       " 160,\n",
       " 130,\n",
       " 139,\n",
       " 145,\n",
       " 145,\n",
       " 145,\n",
       " 154,\n",
       " 133,\n",
       " 160,\n",
       " 142,\n",
       " 157,\n",
       " 145,\n",
       " 136,\n",
       " 121,\n",
       " 115,\n",
       " 121,\n",
       " 121,\n",
       " 127,\n",
       " 145,\n",
       " 130,\n",
       " 133,\n",
       " 142,\n",
       " 127,\n",
       " 121,\n",
       " 139,\n",
       " 118,\n",
       " 118,\n",
       " 148,\n",
       " 121,\n",
       " 145,\n",
       " 130,\n",
       " 169,\n",
       " 142,\n",
       " 136,\n",
       " 148,\n",
       " 142,\n",
       " 169,\n",
       " 115,\n",
       " 109,\n",
       " 166,\n",
       " 145,\n",
       " 127,\n",
       " 124,\n",
       " 124,\n",
       " 130,\n",
       " 196,\n",
       " 97,\n",
       " 115,\n",
       " 133,\n",
       " 139,\n",
       " 148,\n",
       " 109,\n",
       " 127,\n",
       " 175,\n",
       " 148,\n",
       " 136,\n",
       " 175,\n",
       " 151,\n",
       " 154,\n",
       " 133,\n",
       " 145,\n",
       " 115,\n",
       " 130,\n",
       " 121,\n",
       " 133,\n",
       " 142,\n",
       " 121,\n",
       " 136,\n",
       " 142,\n",
       " 136,\n",
       " 145,\n",
       " 127,\n",
       " 151,\n",
       " 136,\n",
       " 145,\n",
       " 166,\n",
       " 139,\n",
       " 151,\n",
       " 127,\n",
       " 136,\n",
       " 142,\n",
       " 118,\n",
       " 145,\n",
       " 127,\n",
       " 127,\n",
       " 118,\n",
       " 121,\n",
       " 121,\n",
       " 121,\n",
       " 106,\n",
       " 88,\n",
       " 136,\n",
       " 151,\n",
       " 133,\n",
       " 88,\n",
       " 142,\n",
       " 103,\n",
       " 124,\n",
       " 148,\n",
       " 151,\n",
       " 139,\n",
       " 157,\n",
       " 148,\n",
       " 154,\n",
       " 115,\n",
       " 115,\n",
       " 136,\n",
       " 133,\n",
       " 130,\n",
       " 136,\n",
       " 112,\n",
       " 115,\n",
       " 136,\n",
       " 109,\n",
       " 145,\n",
       " 133,\n",
       " 136,\n",
       " 112,\n",
       " 124,\n",
       " 115,\n",
       " 100,\n",
       " 118,\n",
       " 148,\n",
       " 118,\n",
       " 94,\n",
       " 145,\n",
       " 115,\n",
       " 136,\n",
       " 103,\n",
       " 172,\n",
       " 154,\n",
       " 151,\n",
       " 172,\n",
       " 124,\n",
       " 133,\n",
       " 181,\n",
       " 142,\n",
       " 136,\n",
       " 148,\n",
       " 136,\n",
       " 115,\n",
       " 103,\n",
       " 118,\n",
       " 121,\n",
       " 136,\n",
       " 130,\n",
       " 154,\n",
       " 115,\n",
       " 127,\n",
       " 130,\n",
       " 133,\n",
       " 130,\n",
       " 133,\n",
       " 136,\n",
       " 172,\n",
       " 157,\n",
       " 145,\n",
       " 133,\n",
       " 109,\n",
       " 154,\n",
       " 130,\n",
       " 142,\n",
       " 121,\n",
       " 118,\n",
       " 130,\n",
       " 127,\n",
       " 106,\n",
       " 133,\n",
       " 112,\n",
       " 118,\n",
       " 76,\n",
       " 118,\n",
       " 115,\n",
       " 163,\n",
       " 145,\n",
       " 154,\n",
       " 121,\n",
       " 127,\n",
       " 130,\n",
       " 148,\n",
       " 118,\n",
       " 115,\n",
       " 127,\n",
       " 121,\n",
       " 109,\n",
       " 118,\n",
       " 124,\n",
       " 145,\n",
       " 166,\n",
       " 142,\n",
       " 136,\n",
       " 130,\n",
       " 145,\n",
       " 142,\n",
       " 148,\n",
       " 106,\n",
       " 124,\n",
       " 106,\n",
       " 115,\n",
       " 115,\n",
       " 127,\n",
       " 124,\n",
       " 163,\n",
       " 139,\n",
       " 124,\n",
       " 106,\n",
       " 130,\n",
       " 106,\n",
       " 103,\n",
       " 121,\n",
       " 130,\n",
       " 127,\n",
       " 127,\n",
       " 121,\n",
       " 121,\n",
       " 127,\n",
       " 124,\n",
       " 136,\n",
       " 118,\n",
       " 127,\n",
       " 115,\n",
       " 124,\n",
       " 112,\n",
       " 115,\n",
       " 124,\n",
       " 121,\n",
       " 121,\n",
       " 133,\n",
       " 133,\n",
       " 103,\n",
       " 118,\n",
       " 124,\n",
       " 154,\n",
       " 109,\n",
       " 133,\n",
       " 145,\n",
       " 124,\n",
       " 115,\n",
       " 127,\n",
       " 115,\n",
       " 115,\n",
       " 103,\n",
       " 136,\n",
       " 118,\n",
       " 109,\n",
       " 124,\n",
       " 118,\n",
       " 127,\n",
       " 124,\n",
       " 124,\n",
       " 112,\n",
       " 115,\n",
       " 124,\n",
       " 109,\n",
       " 130,\n",
       " 112,\n",
       " 127,\n",
       " 121,\n",
       " 112,\n",
       " 142,\n",
       " 130,\n",
       " 127,\n",
       " 127,\n",
       " 130,\n",
       " 148,\n",
       " 100,\n",
       " 127,\n",
       " 118,\n",
       " 112,\n",
       " 112,\n",
       " 121,\n",
       " 118,\n",
       " 121,\n",
       " 121,\n",
       " 112,\n",
       " 121,\n",
       " 121,\n",
       " 100,\n",
       " 130,\n",
       " 127,\n",
       " 130,\n",
       " 127,\n",
       " 124,\n",
       " 127,\n",
       " 118,\n",
       " 106,\n",
       " 127,\n",
       " 103,\n",
       " 106,\n",
       " 109,\n",
       " 118,\n",
       " 151,\n",
       " 121,\n",
       " 100,\n",
       " 139,\n",
       " 118,\n",
       " 133,\n",
       " 127,\n",
       " 145,\n",
       " 127,\n",
       " 127,\n",
       " 106,\n",
       " 109,\n",
       " 97,\n",
       " 175,\n",
       " 118,\n",
       " 127,\n",
       " 145,\n",
       " 121,\n",
       " 136,\n",
       " 124,\n",
       " 175,\n",
       " 172,\n",
       " 172,\n",
       " 130,\n",
       " 130,\n",
       " 130,\n",
       " 127,\n",
       " 142,\n",
       " 121,\n",
       " 112,\n",
       " 145,\n",
       " 115,\n",
       " 133,\n",
       " 121,\n",
       " 109,\n",
       " 106,\n",
       " 136,\n",
       " 103,\n",
       " 130,\n",
       " 124,\n",
       " 124,\n",
       " 124,\n",
       " 130,\n",
       " 139,\n",
       " 145,\n",
       " 97,\n",
       " 133,\n",
       " 103,\n",
       " 115,\n",
       " 130,\n",
       " 106,\n",
       " 133,\n",
       " 124,\n",
       " 118,\n",
       " 118,\n",
       " 109,\n",
       " 124,\n",
       " 118,\n",
       " 160,\n",
       " 91,\n",
       " 118,\n",
       " 130,\n",
       " 112,\n",
       " 124,\n",
       " 190,\n",
       " 121,\n",
       " 115,\n",
       " 136,\n",
       " 175,\n",
       " 127,\n",
       " 130,\n",
       " 118,\n",
       " 109,\n",
       " 94,\n",
       " 157,\n",
       " 100,\n",
       " 106,\n",
       " 148,\n",
       " 130,\n",
       " 133,\n",
       " 109,\n",
       " 91,\n",
       " 97,\n",
       " 85,\n",
       " 97,\n",
       " 97,\n",
       " 118,\n",
       " 115,\n",
       " 130,\n",
       " 124,\n",
       " 109,\n",
       " 97,\n",
       " 109,\n",
       " 136,\n",
       " 166,\n",
       " 139,\n",
       " 130,\n",
       " 163,\n",
       " 136,\n",
       " 136,\n",
       " 94,\n",
       " 160,\n",
       " 118,\n",
       " 112,\n",
       " 124,\n",
       " 94,\n",
       " 100,\n",
       " 91,\n",
       " 88,\n",
       " 112,\n",
       " 130,\n",
       " 133,\n",
       " 112,\n",
       " 109,\n",
       " 112,\n",
       " 118,\n",
       " 154,\n",
       " 136,\n",
       " 142,\n",
       " 130,\n",
       " 148,\n",
       " 166,\n",
       " 121,\n",
       " 115,\n",
       " 115,\n",
       " 136,\n",
       " 130,\n",
       " 127,\n",
       " 124,\n",
       " 145,\n",
       " 139,\n",
       " 136,\n",
       " 136,\n",
       " 112,\n",
       " 142,\n",
       " 130,\n",
       " 112,\n",
       " 118,\n",
       " 133,\n",
       " 121,\n",
       " 118,\n",
       " 154,\n",
       " 133,\n",
       " 124,\n",
       " 124,\n",
       " 148,\n",
       " 97,\n",
       " 109,\n",
       " 106,\n",
       " 112,\n",
       " 127,\n",
       " 88,\n",
       " 103,\n",
       " 94,\n",
       " 124,\n",
       " 85,\n",
       " 142,\n",
       " 136,\n",
       " 142,\n",
       " 127,\n",
       " 115,\n",
       " 130,\n",
       " 124,\n",
       " 142,\n",
       " 124,\n",
       " 124,\n",
       " 124,\n",
       " 148,\n",
       " 136,\n",
       " 130,\n",
       " 148,\n",
       " 115,\n",
       " 124,\n",
       " 136,\n",
       " 118,\n",
       " 142,\n",
       " 127,\n",
       " 154,\n",
       " 121,\n",
       " 178,\n",
       " 127,\n",
       " 130,\n",
       " 136,\n",
       " 145,\n",
       " 133,\n",
       " 106,\n",
       " 169,\n",
       " 133,\n",
       " 154,\n",
       " 118,\n",
       " 106,\n",
       " 133,\n",
       " 130,\n",
       " 142,\n",
       " 130,\n",
       " 148,\n",
       " 133,\n",
       " 145,\n",
       " 121,\n",
       " 121,\n",
       " 133,\n",
       " 154,\n",
       " 163,\n",
       " 130,\n",
       " 151,\n",
       " 139,\n",
       " 124,\n",
       " 118,\n",
       " 136,\n",
       " 115,\n",
       " 145,\n",
       " 127,\n",
       " 124,\n",
       " 139,\n",
       " 160,\n",
       " 148,\n",
       " 121,\n",
       " 154,\n",
       " 127,\n",
       " 124,\n",
       " 145,\n",
       " 124,\n",
       " 127,\n",
       " 136,\n",
       " 124,\n",
       " 115,\n",
       " 118,\n",
       " 133,\n",
       " 118,\n",
       " 106,\n",
       " 127,\n",
       " 121,\n",
       " 130,\n",
       " 103,\n",
       " 130,\n",
       " 172,\n",
       " 136,\n",
       " 139,\n",
       " 130,\n",
       " 148,\n",
       " 145,\n",
       " 115,\n",
       " 130,\n",
       " 118,\n",
       " 148,\n",
       " 127,\n",
       " 142,\n",
       " 121,\n",
       " 136,\n",
       " 130,\n",
       " 118,\n",
       " 133,\n",
       " 127,\n",
       " 136,\n",
       " 145,\n",
       " 136,\n",
       " 136,\n",
       " 118,\n",
       " 136,\n",
       " 124,\n",
       " 127,\n",
       " 121,\n",
       " 151,\n",
       " 142,\n",
       " 133,\n",
       " 133,\n",
       " 139,\n",
       " 136,\n",
       " 148,\n",
       " 142,\n",
       " 142,\n",
       " 109,\n",
       " 124,\n",
       " 121,\n",
       " 121,\n",
       " 130,\n",
       " 142,\n",
       " 139,\n",
       " 148,\n",
       " 136,\n",
       " 139,\n",
       " 118,\n",
       " 145,\n",
       " 121,\n",
       " 130,\n",
       " 124,\n",
       " 121,\n",
       " 109,\n",
       " 130,\n",
       " 136,\n",
       " 148,\n",
       " 127,\n",
       " 130,\n",
       " 142,\n",
       " 178,\n",
       " 121,\n",
       " 127,\n",
       " 136,\n",
       " 151,\n",
       " 121,\n",
       " 115,\n",
       " 115,\n",
       " 148,\n",
       " 124,\n",
       " 112,\n",
       " 118,\n",
       " 130,\n",
       " 124,\n",
       " 136,\n",
       " 160,\n",
       " 133,\n",
       " 145,\n",
       " 133,\n",
       " 133,\n",
       " 133,\n",
       " 136,\n",
       " 136,\n",
       " 139,\n",
       " 136,\n",
       " 160,\n",
       " 124,\n",
       " 103,\n",
       " 124,\n",
       " 130,\n",
       " 112,\n",
       " 154,\n",
       " 139,\n",
       " 139,\n",
       " 124,\n",
       " 142,\n",
       " 121,\n",
       " 145,\n",
       " 124,\n",
       " 145,\n",
       " 142,\n",
       " 133,\n",
       " 118,\n",
       " 151,\n",
       " 142,\n",
       " 133,\n",
       " 154,\n",
       " 124,\n",
       " 163,\n",
       " 139,\n",
       " 178,\n",
       " 115,\n",
       " 136,\n",
       " 142,\n",
       " 142,\n",
       " 145,\n",
       " 154,\n",
       " 115,\n",
       " 118,\n",
       " 124,\n",
       " 121,\n",
       " 136,\n",
       " 127,\n",
       " 124,\n",
       " 127,\n",
       " 106,\n",
       " 121,\n",
       " 127,\n",
       " 136,\n",
       " 109,\n",
       " 112,\n",
       " 124,\n",
       " 103,\n",
       " 139,\n",
       " 115,\n",
       " 136,\n",
       " 106,\n",
       " 127,\n",
       " 121,\n",
       " 130,\n",
       " 136,\n",
       " 136,\n",
       " 124,\n",
       " 115,\n",
       " 124,\n",
       " 121,\n",
       " 136,\n",
       " 121,\n",
       " 142,\n",
       " 124,\n",
       " 133,\n",
       " 124,\n",
       " 130,\n",
       " 127,\n",
       " 109,\n",
       " 157,\n",
       " 133,\n",
       " 124,\n",
       " 130,\n",
       " 145,\n",
       " 127,\n",
       " 118,\n",
       " 130,\n",
       " 157,\n",
       " 142,\n",
       " 139,\n",
       " 124,\n",
       " 139,\n",
       " 139,\n",
       " 136,\n",
       " 160,\n",
       " 97,\n",
       " 139,\n",
       " 133,\n",
       " 136,\n",
       " 136,\n",
       " 139,\n",
       " 142,\n",
       " 127,\n",
       " 112,\n",
       " 118,\n",
       " 118,\n",
       " 115,\n",
       " 106,\n",
       " 97,\n",
       " 130,\n",
       " 115,\n",
       " 136,\n",
       " 127,\n",
       " 103,\n",
       " 106,\n",
       " 118,\n",
       " 136,\n",
       " 133,\n",
       " 115,\n",
       " 133,\n",
       " 124,\n",
       " 133,\n",
       " 133,\n",
       " 118,\n",
       " 157,\n",
       " 112,\n",
       " 142,\n",
       " 151,\n",
       " 154,\n",
       " 169,\n",
       " 136,\n",
       " 130,\n",
       " 142,\n",
       " 121,\n",
       " 121,\n",
       " 148,\n",
       " 136,\n",
       " 142,\n",
       " 127,\n",
       " 142,\n",
       " 127,\n",
       " 118,\n",
       " 148,\n",
       " 154,\n",
       " 154,\n",
       " 166,\n",
       " 118,\n",
       " 142,\n",
       " 154,\n",
       " 139,\n",
       " 124,\n",
       " 127,\n",
       " 145,\n",
       " 115,\n",
       " 109,\n",
       " 121,\n",
       " 106,\n",
       " 130,\n",
       " 106,\n",
       " 148,\n",
       " 139,\n",
       " 127,\n",
       " 112,\n",
       " 136,\n",
       " 142,\n",
       " 112,\n",
       " 133,\n",
       " 130,\n",
       " 112,\n",
       " 118,\n",
       " 121,\n",
       " 112,\n",
       " 136,\n",
       " 121,\n",
       " 127,\n",
       " 124,\n",
       " 124,\n",
       " 124,\n",
       " 124,\n",
       " 118,\n",
       " 130,\n",
       " 112,\n",
       " 115,\n",
       " 118,\n",
       " 154,\n",
       " 109,\n",
       " 112,\n",
       " 136,\n",
       " 121,\n",
       " 121,\n",
       " 139,\n",
       " 115,\n",
       " 133,\n",
       " 160,\n",
       " 127,\n",
       " 133,\n",
       " 142,\n",
       " 109,\n",
       " 139,\n",
       " 133,\n",
       " 121,\n",
       " 100,\n",
       " 130,\n",
       " 145,\n",
       " 130,\n",
       " 103,\n",
       " 118,\n",
       " 115,\n",
       " 94,\n",
       " 124,\n",
       " 133,\n",
       " 136,\n",
       " 121,\n",
       " 85,\n",
       " 121,\n",
       " 103,\n",
       " 139,\n",
       " 124,\n",
       " 61,\n",
       " 106,\n",
       " 121,\n",
       " 124,\n",
       " 127,\n",
       " 118,\n",
       " 130,\n",
       " 154,\n",
       " 142,\n",
       " 130,\n",
       " 124,\n",
       " 157,\n",
       " 124,\n",
       " 127,\n",
       " 133,\n",
       " 133,\n",
       " 130,\n",
       " 199,\n",
       " 127,\n",
       " 121,\n",
       " 127,\n",
       " 139,\n",
       " 121,\n",
       " 118,\n",
       " 124,\n",
       " 112,\n",
       " 160,\n",
       " 127,\n",
       " 139,\n",
       " 124,\n",
       " 118,\n",
       " 115,\n",
       " 127,\n",
       " 118,\n",
       " 115,\n",
       " 130,\n",
       " 160,\n",
       " 103,\n",
       " 151,\n",
       " 118,\n",
       " 109,\n",
       " 118,\n",
       " 103,\n",
       " 121,\n",
       " 130,\n",
       " 127,\n",
       " 121,\n",
       " 103,\n",
       " 130,\n",
       " ...]"
      ]
     },
     "execution_count": 92,
     "metadata": {},
     "output_type": "execute_result"
    }
   ],
   "source": [
    "dim1"
   ]
  },
  {
   "cell_type": "code",
   "execution_count": 93,
   "metadata": {},
   "outputs": [
    {
     "data": {
      "text/plain": [
       "[118,\n",
       " 145,\n",
       " 151,\n",
       " 145,\n",
       " 139,\n",
       " 136,\n",
       " 160,\n",
       " 121,\n",
       " 142,\n",
       " 121,\n",
       " 100,\n",
       " 151,\n",
       " 139,\n",
       " 151,\n",
       " 112,\n",
       " 124,\n",
       " 145,\n",
       " 115,\n",
       " 166,\n",
       " 130,\n",
       " 133,\n",
       " 130,\n",
       " 136,\n",
       " 136,\n",
       " 124,\n",
       " 115,\n",
       " 142,\n",
       " 190,\n",
       " 151,\n",
       " 163,\n",
       " 112,\n",
       " 142,\n",
       " 151,\n",
       " 127,\n",
       " 142,\n",
       " 172,\n",
       " 151,\n",
       " 127,\n",
       " 154,\n",
       " 91,\n",
       " 124,\n",
       " 139,\n",
       " 124,\n",
       " 127,\n",
       " 148,\n",
       " 118,\n",
       " 148,\n",
       " 157,\n",
       " 139,\n",
       " 145,\n",
       " 154,\n",
       " 163,\n",
       " 148,\n",
       " 130,\n",
       " 160,\n",
       " 136,\n",
       " 121,\n",
       " 169,\n",
       " 145,\n",
       " 115,\n",
       " 106,\n",
       " 124,\n",
       " 130,\n",
       " 112,\n",
       " 124,\n",
       " 106,\n",
       " 112,\n",
       " 121,\n",
       " 100,\n",
       " 115,\n",
       " 136,\n",
       " 118,\n",
       " 127,\n",
       " 148,\n",
       " 130,\n",
       " 118,\n",
       " 124,\n",
       " 139,\n",
       " 133,\n",
       " 118,\n",
       " 121,\n",
       " 127,\n",
       " 136,\n",
       " 127,\n",
       " 124,\n",
       " 124,\n",
       " 136,\n",
       " 130,\n",
       " 130,\n",
       " 112,\n",
       " 127,\n",
       " 136,\n",
       " 130,\n",
       " 124,\n",
       " 130,\n",
       " 109,\n",
       " 169,\n",
       " 124,\n",
       " 142,\n",
       " 127,\n",
       " 106,\n",
       " 130,\n",
       " 97,\n",
       " 100,\n",
       " 145,\n",
       " 106,\n",
       " 148,\n",
       " 136,\n",
       " 136,\n",
       " 133,\n",
       " 121,\n",
       " 133,\n",
       " 136,\n",
       " 157,\n",
       " 133,\n",
       " 139,\n",
       " 127,\n",
       " 139,\n",
       " 151,\n",
       " 157,\n",
       " 148,\n",
       " 163,\n",
       " 145,\n",
       " 136,\n",
       " 127,\n",
       " 130,\n",
       " 160,\n",
       " 133,\n",
       " 130,\n",
       " 121,\n",
       " 136,\n",
       " 145,\n",
       " 121,\n",
       " 142,\n",
       " 148,\n",
       " 148,\n",
       " 127,\n",
       " 139,\n",
       " 148,\n",
       " 148,\n",
       " 151,\n",
       " 160,\n",
       " 154,\n",
       " 145,\n",
       " 139,\n",
       " 127,\n",
       " 121,\n",
       " 106,\n",
       " 106,\n",
       " 145,\n",
       " 112,\n",
       " 130,\n",
       " 124,\n",
       " 139,\n",
       " 145,\n",
       " 142,\n",
       " 151,\n",
       " 130,\n",
       " 118,\n",
       " 133,\n",
       " 154,\n",
       " 136,\n",
       " 139,\n",
       " 121,\n",
       " 142,\n",
       " 148,\n",
       " 136,\n",
       " 172,\n",
       " 124,\n",
       " 205,\n",
       " 175,\n",
       " 118,\n",
       " 127,\n",
       " 130,\n",
       " 124,\n",
       " 112,\n",
       " 142,\n",
       " 142,\n",
       " 106,\n",
       " 127,\n",
       " 118,\n",
       " 139,\n",
       " 139,\n",
       " 124,\n",
       " 121,\n",
       " 151,\n",
       " 139,\n",
       " 130,\n",
       " 124,\n",
       " 136,\n",
       " 151,\n",
       " 115,\n",
       " 130,\n",
       " 130,\n",
       " 121,\n",
       " 130,\n",
       " 106,\n",
       " 121,\n",
       " 145,\n",
       " 121,\n",
       " 151,\n",
       " 133,\n",
       " 139,\n",
       " 157,\n",
       " 145,\n",
       " 127,\n",
       " 166,\n",
       " 154,\n",
       " 133,\n",
       " 163,\n",
       " 127,\n",
       " 157,\n",
       " 127,\n",
       " 133,\n",
       " 166,\n",
       " 133,\n",
       " 127,\n",
       " 121,\n",
       " 136,\n",
       " 127,\n",
       " 118,\n",
       " 109,\n",
       " 94,\n",
       " 136,\n",
       " 139,\n",
       " 121,\n",
       " 115,\n",
       " 145,\n",
       " 94,\n",
       " 151,\n",
       " 148,\n",
       " 160,\n",
       " 139,\n",
       " 157,\n",
       " 139,\n",
       " 142,\n",
       " 106,\n",
       " 133,\n",
       " 136,\n",
       " 142,\n",
       " 151,\n",
       " 142,\n",
       " 175,\n",
       " 100,\n",
       " 127,\n",
       " 142,\n",
       " 124,\n",
       " 145,\n",
       " 145,\n",
       " 112,\n",
       " 130,\n",
       " 124,\n",
       " 106,\n",
       " 130,\n",
       " 121,\n",
       " 127,\n",
       " 100,\n",
       " 148,\n",
       " 115,\n",
       " 121,\n",
       " 115,\n",
       " 106,\n",
       " 127,\n",
       " 145,\n",
       " 160,\n",
       " 133,\n",
       " 142,\n",
       " 160,\n",
       " 115,\n",
       " 121,\n",
       " 133,\n",
       " 115,\n",
       " 112,\n",
       " 133,\n",
       " 112,\n",
       " 130,\n",
       " 130,\n",
       " 181,\n",
       " 118,\n",
       " 121,\n",
       " 139,\n",
       " 133,\n",
       " 115,\n",
       " 124,\n",
       " 133,\n",
       " 136,\n",
       " 133,\n",
       " 136,\n",
       " 136,\n",
       " 124,\n",
       " 121,\n",
       " 151,\n",
       " 145,\n",
       " 127,\n",
       " 106,\n",
       " 130,\n",
       " 145,\n",
       " 121,\n",
       " 112,\n",
       " 121,\n",
       " 103,\n",
       " 121,\n",
       " 109,\n",
       " 115,\n",
       " 118,\n",
       " 151,\n",
       " 139,\n",
       " 136,\n",
       " 148,\n",
       " 112,\n",
       " 127,\n",
       " 124,\n",
       " 112,\n",
       " 112,\n",
       " 130,\n",
       " 124,\n",
       " 115,\n",
       " 127,\n",
       " 118,\n",
       " 145,\n",
       " 130,\n",
       " 163,\n",
       " 133,\n",
       " 160,\n",
       " 148,\n",
       " 139,\n",
       " 142,\n",
       " 100,\n",
       " 133,\n",
       " 118,\n",
       " 130,\n",
       " 94,\n",
       " 133,\n",
       " 169,\n",
       " 118,\n",
       " 157,\n",
       " 124,\n",
       " 133,\n",
       " 148,\n",
       " 118,\n",
       " 115,\n",
       " 130,\n",
       " 133,\n",
       " 130,\n",
       " 133,\n",
       " 127,\n",
       " 130,\n",
       " 130,\n",
       " 118,\n",
       " 124,\n",
       " 118,\n",
       " 112,\n",
       " 145,\n",
       " 115,\n",
       " 118,\n",
       " 121,\n",
       " 121,\n",
       " 145,\n",
       " 121,\n",
       " 145,\n",
       " 130,\n",
       " 103,\n",
       " 112,\n",
       " 124,\n",
       " 106,\n",
       " 121,\n",
       " 118,\n",
       " 166,\n",
       " 118,\n",
       " 151,\n",
       " 112,\n",
       " 136,\n",
       " 124,\n",
       " 115,\n",
       " 130,\n",
       " 124,\n",
       " 121,\n",
       " 133,\n",
       " 100,\n",
       " 121,\n",
       " 118,\n",
       " 109,\n",
       " 112,\n",
       " 115,\n",
       " 121,\n",
       " 118,\n",
       " 118,\n",
       " 130,\n",
       " 115,\n",
       " 127,\n",
       " 121,\n",
       " 121,\n",
       " 166,\n",
       " 121,\n",
       " 124,\n",
       " 133,\n",
       " 142,\n",
       " 115,\n",
       " 130,\n",
       " 115,\n",
       " 103,\n",
       " 127,\n",
       " 118,\n",
       " 112,\n",
       " 118,\n",
       " 130,\n",
       " 121,\n",
       " 127,\n",
       " 142,\n",
       " 112,\n",
       " 139,\n",
       " 151,\n",
       " 133,\n",
       " 136,\n",
       " 133,\n",
       " 136,\n",
       " 118,\n",
       " 106,\n",
       " 127,\n",
       " 106,\n",
       " 109,\n",
       " 109,\n",
       " 139,\n",
       " 106,\n",
       " 94,\n",
       " 85,\n",
       " 97,\n",
       " 133,\n",
       " 109,\n",
       " 118,\n",
       " 121,\n",
       " 112,\n",
       " 121,\n",
       " 106,\n",
       " 112,\n",
       " 118,\n",
       " 157,\n",
       " 151,\n",
       " 127,\n",
       " 139,\n",
       " 136,\n",
       " 127,\n",
       " 133,\n",
       " 193,\n",
       " 217,\n",
       " 136,\n",
       " 136,\n",
       " 139,\n",
       " 142,\n",
       " 124,\n",
       " 115,\n",
       " 115,\n",
       " 124,\n",
       " 106,\n",
       " 118,\n",
       " 133,\n",
       " 118,\n",
       " 100,\n",
       " 103,\n",
       " 103,\n",
       " 109,\n",
       " 112,\n",
       " 124,\n",
       " 115,\n",
       " 139,\n",
       " 112,\n",
       " 124,\n",
       " 127,\n",
       " 109,\n",
       " 139,\n",
       " 100,\n",
       " 109,\n",
       " 103,\n",
       " 115,\n",
       " 112,\n",
       " 118,\n",
       " 127,\n",
       " 118,\n",
       " 130,\n",
       " 130,\n",
       " 130,\n",
       " 127,\n",
       " 130,\n",
       " 127,\n",
       " 115,\n",
       " 130,\n",
       " 127,\n",
       " 151,\n",
       " 145,\n",
       " 121,\n",
       " 163,\n",
       " 139,\n",
       " 133,\n",
       " 112,\n",
       " 115,\n",
       " 109,\n",
       " 112,\n",
       " 118,\n",
       " 100,\n",
       " 103,\n",
       " 172,\n",
       " 139,\n",
       " 133,\n",
       " 127,\n",
       " 106,\n",
       " 97,\n",
       " 94,\n",
       " 82,\n",
       " 106,\n",
       " 127,\n",
       " 109,\n",
       " 133,\n",
       " 118,\n",
       " 106,\n",
       " 91,\n",
       " 121,\n",
       " 148,\n",
       " 133,\n",
       " 151,\n",
       " 109,\n",
       " 178,\n",
       " 154,\n",
       " 145,\n",
       " 94,\n",
       " 97,\n",
       " 115,\n",
       " 124,\n",
       " 100,\n",
       " 70,\n",
       " 103,\n",
       " 109,\n",
       " 121,\n",
       " 130,\n",
       " 136,\n",
       " 142,\n",
       " 112,\n",
       " 118,\n",
       " 103,\n",
       " 133,\n",
       " 151,\n",
       " 172,\n",
       " 118,\n",
       " 133,\n",
       " 142,\n",
       " 154,\n",
       " 118,\n",
       " 103,\n",
       " 112,\n",
       " 139,\n",
       " 139,\n",
       " 124,\n",
       " 127,\n",
       " 136,\n",
       " 139,\n",
       " 121,\n",
       " 136,\n",
       " 163,\n",
       " 142,\n",
       " 130,\n",
       " 112,\n",
       " 109,\n",
       " 103,\n",
       " 115,\n",
       " 112,\n",
       " 190,\n",
       " 121,\n",
       " 124,\n",
       " 130,\n",
       " 112,\n",
       " 100,\n",
       " 100,\n",
       " 109,\n",
       " 106,\n",
       " 130,\n",
       " 109,\n",
       " 124,\n",
       " 124,\n",
       " 115,\n",
       " 79,\n",
       " 148,\n",
       " 157,\n",
       " 121,\n",
       " 160,\n",
       " 118,\n",
       " 124,\n",
       " 115,\n",
       " 130,\n",
       " 166,\n",
       " 133,\n",
       " 127,\n",
       " 103,\n",
       " 142,\n",
       " 142,\n",
       " 127,\n",
       " 121,\n",
       " 139,\n",
       " 148,\n",
       " 118,\n",
       " 130,\n",
       " 145,\n",
       " 130,\n",
       " 175,\n",
       " 127,\n",
       " 139,\n",
       " 166,\n",
       " 136,\n",
       " 139,\n",
       " 157,\n",
       " 115,\n",
       " 127,\n",
       " 127,\n",
       " 124,\n",
       " 145,\n",
       " 124,\n",
       " 124,\n",
       " 124,\n",
       " 142,\n",
       " 142,\n",
       " 133,\n",
       " 133,\n",
       " 142,\n",
       " 142,\n",
       " 136,\n",
       " 133,\n",
       " 169,\n",
       " 124,\n",
       " 130,\n",
       " 127,\n",
       " 136,\n",
       " 115,\n",
       " 118,\n",
       " 127,\n",
       " 106,\n",
       " 148,\n",
       " 136,\n",
       " 139,\n",
       " 136,\n",
       " 184,\n",
       " 142,\n",
       " 136,\n",
       " 121,\n",
       " 133,\n",
       " 118,\n",
       " 148,\n",
       " 121,\n",
       " 133,\n",
       " 127,\n",
       " 133,\n",
       " 88,\n",
       " 130,\n",
       " 124,\n",
       " 118,\n",
       " 112,\n",
       " 136,\n",
       " 124,\n",
       " 148,\n",
       " 106,\n",
       " 151,\n",
       " 148,\n",
       " 145,\n",
       " 133,\n",
       " 124,\n",
       " 124,\n",
       " 130,\n",
       " 121,\n",
       " 139,\n",
       " 121,\n",
       " 142,\n",
       " 118,\n",
       " 124,\n",
       " 115,\n",
       " 133,\n",
       " 124,\n",
       " 121,\n",
       " 115,\n",
       " 142,\n",
       " 136,\n",
       " 136,\n",
       " 154,\n",
       " 154,\n",
       " 127,\n",
       " 139,\n",
       " 148,\n",
       " 139,\n",
       " 160,\n",
       " 148,\n",
       " 145,\n",
       " 148,\n",
       " 112,\n",
       " 148,\n",
       " 136,\n",
       " 124,\n",
       " 133,\n",
       " 142,\n",
       " 145,\n",
       " 136,\n",
       " 118,\n",
       " 184,\n",
       " 124,\n",
       " 121,\n",
       " 136,\n",
       " 142,\n",
       " 145,\n",
       " 139,\n",
       " 145,\n",
       " 124,\n",
       " 124,\n",
       " 142,\n",
       " 133,\n",
       " 127,\n",
       " 121,\n",
       " 136,\n",
       " 139,\n",
       " 145,\n",
       " 115,\n",
       " 133,\n",
       " 139,\n",
       " 118,\n",
       " 112,\n",
       " 133,\n",
       " 133,\n",
       " 142,\n",
       " 121,\n",
       " 124,\n",
       " 154,\n",
       " 145,\n",
       " 121,\n",
       " 145,\n",
       " 145,\n",
       " 121,\n",
       " 127,\n",
       " 121,\n",
       " 133,\n",
       " 124,\n",
       " 139,\n",
       " 118,\n",
       " 121,\n",
       " 136,\n",
       " 139,\n",
       " 136,\n",
       " 139,\n",
       " 145,\n",
       " 127,\n",
       " 121,\n",
       " 106,\n",
       " 148,\n",
       " 115,\n",
       " 142,\n",
       " 112,\n",
       " 139,\n",
       " 142,\n",
       " 145,\n",
       " 130,\n",
       " 136,\n",
       " 145,\n",
       " 127,\n",
       " 139,\n",
       " 145,\n",
       " 127,\n",
       " 112,\n",
       " 106,\n",
       " 157,\n",
       " 139,\n",
       " 130,\n",
       " 127,\n",
       " 136,\n",
       " 142,\n",
       " 133,\n",
       " 118,\n",
       " 118,\n",
       " 145,\n",
       " 145,\n",
       " 136,\n",
       " 115,\n",
       " 118,\n",
       " 133,\n",
       " 133,\n",
       " 124,\n",
       " 139,\n",
       " 136,\n",
       " 115,\n",
       " 124,\n",
       " 118,\n",
       " 139,\n",
       " 115,\n",
       " 130,\n",
       " 124,\n",
       " 121,\n",
       " 118,\n",
       " 139,\n",
       " 130,\n",
       " 118,\n",
       " 121,\n",
       " 133,\n",
       " 121,\n",
       " 124,\n",
       " 133,\n",
       " 145,\n",
       " 127,\n",
       " 121,\n",
       " 130,\n",
       " 124,\n",
       " 133,\n",
       " 139,\n",
       " 124,\n",
       " 130,\n",
       " 130,\n",
       " 121,\n",
       " 130,\n",
       " 133,\n",
       " 124,\n",
       " 112,\n",
       " 115,\n",
       " 106,\n",
       " 124,\n",
       " 133,\n",
       " 121,\n",
       " 124,\n",
       " 112,\n",
       " 127,\n",
       " 127,\n",
       " 136,\n",
       " 136,\n",
       " 124,\n",
       " 154,\n",
       " 139,\n",
       " 136,\n",
       " 151,\n",
       " 103,\n",
       " 139,\n",
       " 130,\n",
       " 127,\n",
       " 127,\n",
       " 130,\n",
       " 124,\n",
       " 118,\n",
       " 106,\n",
       " 130,\n",
       " 118,\n",
       " 112,\n",
       " 112,\n",
       " 130,\n",
       " 130,\n",
       " 127,\n",
       " 121,\n",
       " 118,\n",
       " 124,\n",
       " 100,\n",
       " 130,\n",
       " 106,\n",
       " 139,\n",
       " 127,\n",
       " 136,\n",
       " 106,\n",
       " 118,\n",
       " 136,\n",
       " 118,\n",
       " 124,\n",
       " 109,\n",
       " 130,\n",
       " 157,\n",
       " 151,\n",
       " 163,\n",
       " 130,\n",
       " 130,\n",
       " 133,\n",
       " 160,\n",
       " 190,\n",
       " 127,\n",
       " 124,\n",
       " 133,\n",
       " 148,\n",
       " 127,\n",
       " 139,\n",
       " 145,\n",
       " 160,\n",
       " 121,\n",
       " 133,\n",
       " 154,\n",
       " 124,\n",
       " 127,\n",
       " 115,\n",
       " 133,\n",
       " 151,\n",
       " 139,\n",
       " 142,\n",
       " 127,\n",
       " 136,\n",
       " 151,\n",
       " 154,\n",
       " 130,\n",
       " 142,\n",
       " 190,\n",
       " 148,\n",
       " 127,\n",
       " 124,\n",
       " 163,\n",
       " 130,\n",
       " 124,\n",
       " 118,\n",
       " 133,\n",
       " 124,\n",
       " 106,\n",
       " 127,\n",
       " 145,\n",
       " 118,\n",
       " 178,\n",
       " 145,\n",
       " 142,\n",
       " 124,\n",
       " 106,\n",
       " 142,\n",
       " 109,\n",
       " 130,\n",
       " 121,\n",
       " 148,\n",
       " 106,\n",
       " 100,\n",
       " 118,\n",
       " 124,\n",
       " 145,\n",
       " 172,\n",
       " 133,\n",
       " 139,\n",
       " 118,\n",
       " 121,\n",
       " 133,\n",
       " 127,\n",
       " 121,\n",
       " 124,\n",
       " 136,\n",
       " 127,\n",
       " 139,\n",
       " 124,\n",
       " 109,\n",
       " 127,\n",
       " 139,\n",
       " 133,\n",
       " 118,\n",
       " 112,\n",
       " 109,\n",
       " 103,\n",
       " 136,\n",
       " 139,\n",
       " 154,\n",
       " 124,\n",
       " 73,\n",
       " 130,\n",
       " 100,\n",
       " 115,\n",
       " 112,\n",
       " 79,\n",
       " 112,\n",
       " 118,\n",
       " 124,\n",
       " 133,\n",
       " 136,\n",
       " 133,\n",
       " 136,\n",
       " 106,\n",
       " 130,\n",
       " 136,\n",
       " 142,\n",
       " 148,\n",
       " 124,\n",
       " 139,\n",
       " 124,\n",
       " 151,\n",
       " 139,\n",
       " 118,\n",
       " 127,\n",
       " 127,\n",
       " 148,\n",
       " 127,\n",
       " 121,\n",
       " 124,\n",
       " 136,\n",
       " 151,\n",
       " 124,\n",
       " 187,\n",
       " 115,\n",
       " 121,\n",
       " 115,\n",
       " 118,\n",
       " 130,\n",
       " 121,\n",
       " 136,\n",
       " 160,\n",
       " 127,\n",
       " 136,\n",
       " 124,\n",
       " 112,\n",
       " 121,\n",
       " 97,\n",
       " 109,\n",
       " 139,\n",
       " 118,\n",
       " 127,\n",
       " 103,\n",
       " 127,\n",
       " ...]"
      ]
     },
     "execution_count": 93,
     "metadata": {},
     "output_type": "execute_result"
    }
   ],
   "source": [
    "dim2"
   ]
  },
  {
   "cell_type": "code",
   "execution_count": 94,
   "metadata": {},
   "outputs": [
    {
     "data": {
      "text/plain": [
       "<seaborn.axisgrid.JointGrid at 0x1e6e2933148>"
      ]
     },
     "execution_count": 94,
     "metadata": {},
     "output_type": "execute_result"
    },
    {
     "data": {
      "image/png": "[encoded data removed]",
      "text/plain": [
       "<Figure size 432x432 with 3 Axes>"
      ]
     },
     "metadata": {
      "needs_background": "light"
     },
     "output_type": "display_data"
    }
   ],
   "source": [
    "sns.jointplot(dim1,dim2)"
   ]
  },
  {
   "cell_type": "code",
   "execution_count": 95,
   "metadata": {},
   "outputs": [
    {
     "data": {
      "text/plain": [
       "130.92538461538462"
      ]
     },
     "execution_count": 95,
     "metadata": {},
     "output_type": "execute_result"
    }
   ],
   "source": [
    "np.mean(dim1)"
   ]
  },
  {
   "cell_type": "code",
   "execution_count": 96,
   "metadata": {},
   "outputs": [
    {
     "data": {
      "text/plain": [
       "130.75"
      ]
     },
     "execution_count": 96,
     "metadata": {},
     "output_type": "execute_result"
    }
   ],
   "source": [
    "np.mean(dim2)"
   ]
  },
  {
   "cell_type": "markdown",
   "metadata": {},
   "source": [
    "So the average image width and height is roughly 130 for both dimensions"
   ]
  },
  {
   "cell_type": "code",
   "execution_count": 97,
   "metadata": {},
   "outputs": [],
   "source": [
    "image_shape = (130, 130, 3)"
   ]
  },
  {
   "cell_type": "markdown",
   "metadata": {},
   "source": [
    "## 3. Generation of additinal data"
   ]
  },
  {
   "cell_type": "markdown",
   "metadata": {},
   "source": [
    "In order to enhance the robustness of the model to be able to classify novel images, we can generate additional training data by performing transormations on the existing images. We can do this using Keras' ImageDataGenerator class. This will generate as many new images as is required by the model until it reaches the end of the training epochs."
   ]
  },
  {
   "cell_type": "code",
   "execution_count": 98,
   "metadata": {},
   "outputs": [],
   "source": [
    "from tensorflow.keras.preprocessing.image import ImageDataGenerator"
   ]
  },
  {
   "cell_type": "code",
   "execution_count": 99,
   "metadata": {},
   "outputs": [
    {
     "data": {
      "text/plain": [
       "0.9254902"
      ]
     },
     "execution_count": 99,
     "metadata": {},
     "output_type": "execute_result"
    }
   ],
   "source": [
    "imread(example_para_cell).max()"
   ]
  },
  {
   "cell_type": "markdown",
   "metadata": {},
   "source": [
    "The pixel values are already scaled, so no need to include that in the image generator"
   ]
  },
  {
   "cell_type": "code",
   "execution_count": 100,
   "metadata": {},
   "outputs": [],
   "source": [
    "image_generator = ImageDataGenerator(rotation_range=20,\n",
    "                                    width_shift_range=0.1,\n",
    "                                    height_shift_range=0.1,\n",
    "                                    shear_range=0.1,\n",
    "                                    zoom_range=0.1,\n",
    "                                    horizontal_flip=True,\n",
    "                                    fill_mode='nearest')"
   ]
  },
  {
   "cell_type": "markdown",
   "metadata": {},
   "source": [
    "Let's see what this does to a cell image"
   ]
  },
  {
   "cell_type": "code",
   "execution_count": 101,
   "metadata": {},
   "outputs": [],
   "source": [
    "example_para_cell = imread(example_para_cell)"
   ]
  },
  {
   "cell_type": "code",
   "execution_count": 102,
   "metadata": {},
   "outputs": [
    {
     "data": {
      "text/plain": [
       "<matplotlib.image.AxesImage at 0x1e6e4159308>"
      ]
     },
     "execution_count": 102,
     "metadata": {},
     "output_type": "execute_result"
    },
    {
     "data": {
      "image/png": "[encoded data removed]",
      "text/plain": [
       "<Figure size 432x288 with 1 Axes>"
      ]
     },
     "metadata": {
      "needs_background": "light"
     },
     "output_type": "display_data"
    }
   ],
   "source": [
    "plt.imshow(example_para_cell)"
   ]
  },
  {
   "cell_type": "code",
   "execution_count": 103,
   "metadata": {},
   "outputs": [
    {
     "data": {
      "text/plain": [
       "<matplotlib.image.AxesImage at 0x1e6e41afcc8>"
      ]
     },
     "execution_count": 103,
     "metadata": {},
     "output_type": "execute_result"
    },
    {
     "data": {
      "image/png": "[encoded data removed]",
      "text/plain": [
       "<Figure size 432x288 with 1 Axes>"
      ]
     },
     "metadata": {
      "needs_background": "light"
     },
     "output_type": "display_data"
    }
   ],
   "source": [
    "plt.imshow(image_generator.random_transform(example_para_cell))"
   ]
  },
  {
   "cell_type": "markdown",
   "metadata": {},
   "source": [
    "Now we want to flow batches from the directories with the treain and test sets"
   ]
  },
  {
   "cell_type": "code",
   "execution_count": 104,
   "metadata": {},
   "outputs": [
    {
     "name": "stdout",
     "output_type": "stream",
     "text": [
      "Found 24958 images belonging to 2 classes.\n"
     ]
    }
   ],
   "source": [
    "train_image_gen = image_generator.flow_from_directory(train_path,\n",
    "                                                     target_size=image_shape[:2],\n",
    "                                                     color_mode='rgb',\n",
    "                                                     batch_size=16,\n",
    "                                                     class_mode='binary')"
   ]
  },
  {
   "cell_type": "code",
   "execution_count": 105,
   "metadata": {},
   "outputs": [
    {
     "name": "stdout",
     "output_type": "stream",
     "text": [
      "Found 2600 images belonging to 2 classes.\n"
     ]
    }
   ],
   "source": [
    "test_image_gen = image_generator.flow_from_directory(test_path,\n",
    "                                                     target_size=image_shape[:2],\n",
    "                                                     color_mode='rgb',\n",
    "                                                     batch_size=16,\n",
    "                                                     class_mode='binary',\n",
    "                                                    shuffle=False)"
   ]
  },
  {
   "cell_type": "code",
   "execution_count": 106,
   "metadata": {},
   "outputs": [
    {
     "data": {
      "text/plain": [
       "{'parasitized': 0, 'uninfected': 1}"
      ]
     },
     "execution_count": 106,
     "metadata": {},
     "output_type": "execute_result"
    }
   ],
   "source": [
    "train_image_gen.class_indices"
   ]
  },
  {
   "cell_type": "code",
   "execution_count": 107,
   "metadata": {},
   "outputs": [
    {
     "data": {
      "text/plain": [
       "{'parasitized': 0, 'uninfected': 1}"
      ]
     },
     "execution_count": 107,
     "metadata": {},
     "output_type": "execute_result"
    }
   ],
   "source": [
    "test_image_gen.class_indices"
   ]
  },
  {
   "cell_type": "markdown",
   "metadata": {},
   "source": [
    "## 4. Creating the model"
   ]
  },
  {
   "cell_type": "code",
   "execution_count": 108,
   "metadata": {},
   "outputs": [],
   "source": [
    "from tensorflow.keras.models import Sequential"
   ]
  },
  {
   "cell_type": "code",
   "execution_count": 109,
   "metadata": {},
   "outputs": [],
   "source": [
    "from tensorflow.keras.layers import Dense,Conv2D,MaxPool2D,Dropout,Flatten"
   ]
  },
  {
   "cell_type": "code",
   "execution_count": 110,
   "metadata": {},
   "outputs": [],
   "source": [
    "model = Sequential()\n",
    "\n",
    "model.add(Conv2D(filters=32, kernel_size=(3,3), input_shape=image_shape, activation='relu'))\n",
    "model.add(MaxPool2D(pool_size=(2,2)))\n",
    "\n",
    "model.add(Conv2D(filters=64, kernel_size=(3,3), input_shape=image_shape, activation='relu'))\n",
    "model.add(MaxPool2D(pool_size=(2,2)))\n",
    "\n",
    "model.add(Conv2D(filters=64, kernel_size=(3,3), input_shape=image_shape, activation='relu'))\n",
    "model.add(MaxPool2D(pool_size=(2,2)))\n",
    "\n",
    "model.add(Flatten())\n",
    "\n",
    "model.add(Dense(128, activation='relu'))\n",
    "model.add(Dropout(0.5))\n",
    "\n",
    "model.add(Dense(1, activation='sigmoid'))\n",
    "\n",
    "model.compile(loss='binary_crossentropy', optimizer='adam', metrics=['accuracy'])"
   ]
  },
  {
   "cell_type": "code",
   "execution_count": 111,
   "metadata": {},
   "outputs": [
    {
     "name": "stdout",
     "output_type": "stream",
     "text": [
      "Model: \"sequential_1\"\n",
      "_________________________________________________________________\n",
      "Layer (type)                 Output Shape              Param #   \n",
      "=================================================================\n",
      "conv2d_3 (Conv2D)            (None, 128, 128, 32)      896       \n",
      "_________________________________________________________________\n",
      "max_pooling2d_3 (MaxPooling2 (None, 64, 64, 32)        0         \n",
      "_________________________________________________________________\n",
      "conv2d_4 (Conv2D)            (None, 62, 62, 64)        18496     \n",
      "_________________________________________________________________\n",
      "max_pooling2d_4 (MaxPooling2 (None, 31, 31, 64)        0         \n",
      "_________________________________________________________________\n",
      "conv2d_5 (Conv2D)            (None, 29, 29, 64)        36928     \n",
      "_________________________________________________________________\n",
      "max_pooling2d_5 (MaxPooling2 (None, 14, 14, 64)        0         \n",
      "_________________________________________________________________\n",
      "flatten_1 (Flatten)          (None, 12544)             0         \n",
      "_________________________________________________________________\n",
      "dense_2 (Dense)              (None, 128)               1605760   \n",
      "_________________________________________________________________\n",
      "dropout_1 (Dropout)          (None, 128)               0         \n",
      "_________________________________________________________________\n",
      "dense_3 (Dense)              (None, 1)                 129       \n",
      "=================================================================\n",
      "Total params: 1,662,209\n",
      "Trainable params: 1,662,209\n",
      "Non-trainable params: 0\n",
      "_________________________________________________________________\n"
     ]
    }
   ],
   "source": [
    "model.summary()"
   ]
  },
  {
   "cell_type": "markdown",
   "metadata": {},
   "source": [
    "We also want to add early stopping with the monitor being on the loss of the validation dataset. If the validation loss begins to increase for two epochs this will interrupt the training of the model."
   ]
  },
  {
   "cell_type": "code",
   "execution_count": 112,
   "metadata": {},
   "outputs": [],
   "source": [
    "from tensorflow.keras.callbacks import EarlyStopping"
   ]
  },
  {
   "cell_type": "code",
   "execution_count": 113,
   "metadata": {},
   "outputs": [],
   "source": [
    "early_stop = EarlyStopping(monitor='val_loss', patience=2)"
   ]
  },
  {
   "cell_type": "markdown",
   "metadata": {},
   "source": [
    "## 5. Training the model"
   ]
  },
  {
   "cell_type": "code",
   "execution_count": 114,
   "metadata": {},
   "outputs": [],
   "source": [
    "#Trained model is also provided"
   ]
  },
  {
   "cell_type": "code",
   "execution_count": 115,
   "metadata": {},
   "outputs": [
    {
     "name": "stdout",
     "output_type": "stream",
     "text": [
      "WARNING:tensorflow:From <ipython-input-115-f786d31bf026>:4: Model.fit_generator (from tensorflow.python.keras.engine.training) is deprecated and will be removed in a future version.\n",
      "Instructions for updating:\n",
      "Please use Model.fit, which supports generators.\n",
      "Epoch 1/15\n",
      "1560/1560 [==============================] - 1016s 651ms/step - loss: 0.8313 - accuracy: 0.5520 - val_loss: 0.6891 - val_accuracy: 0.5600\n",
      "Epoch 2/15\n",
      "1560/1560 [==============================] - 552s 354ms/step - loss: 0.6884 - accuracy: 0.5588 - val_loss: 0.6811 - val_accuracy: 0.5723\n",
      "Epoch 3/15\n",
      "1560/1560 [==============================] - 576s 369ms/step - loss: 0.6806 - accuracy: 0.5728 - val_loss: 0.6780 - val_accuracy: 0.5785\n",
      "Epoch 4/15\n",
      "1560/1560 [==============================] - 539s 346ms/step - loss: 0.6715 - accuracy: 0.5965 - val_loss: 0.6319 - val_accuracy: 0.6123\n",
      "Epoch 5/15\n",
      "1560/1560 [==============================] - 554s 355ms/step - loss: 0.3295 - accuracy: 0.8778 - val_loss: 0.2056 - val_accuracy: 0.9331\n",
      "Epoch 6/15\n",
      "1560/1560 [==============================] - 531s 340ms/step - loss: 0.2067 - accuracy: 0.9343 - val_loss: 0.2226 - val_accuracy: 0.9269\n",
      "Epoch 7/15\n",
      "1560/1560 [==============================] - 508s 325ms/step - loss: 0.1926 - accuracy: 0.9393 - val_loss: 0.1889 - val_accuracy: 0.9400\n",
      "Epoch 8/15\n",
      "1560/1560 [==============================] - 507s 325ms/step - loss: 0.1856 - accuracy: 0.9419 - val_loss: 0.1803 - val_accuracy: 0.9365\n",
      "Epoch 9/15\n",
      "1560/1560 [==============================] - 507s 325ms/step - loss: 0.1869 - accuracy: 0.9422 - val_loss: 0.2065 - val_accuracy: 0.9327\n",
      "Epoch 10/15\n",
      "1560/1560 [==============================] - 507s 325ms/step - loss: 0.1820 - accuracy: 0.9432 - val_loss: 0.2123 - val_accuracy: 0.9319\n"
     ]
    }
   ],
   "source": [
    "results = model.fit_generator(train_image_gen,\n",
    "                              epochs=15,\n",
    "                              validation_data=test_image_gen,\n",
    "                             callbacks=[early_stop])"
   ]
  },
  {
   "cell_type": "code",
   "execution_count": 116,
   "metadata": {},
   "outputs": [],
   "source": [
    "model.save('malaria_CNN.h5')"
   ]
  },
  {
   "cell_type": "markdown",
   "metadata": {},
   "source": [
    "The model takes a while to train so the trained model can also be loaded"
   ]
  },
  {
   "cell_type": "code",
   "execution_count": 117,
   "metadata": {},
   "outputs": [],
   "source": [
    "#from tensorflow.keras.models import load_model"
   ]
  },
  {
   "cell_type": "code",
   "execution_count": 118,
   "metadata": {},
   "outputs": [],
   "source": [
    "#model = load_model('malaria_CNN.h5')"
   ]
  },
  {
   "cell_type": "code",
   "execution_count": 119,
   "metadata": {},
   "outputs": [
    {
     "name": "stdout",
     "output_type": "stream",
     "text": [
      "Model: \"sequential_1\"\n",
      "_________________________________________________________________\n",
      "Layer (type)                 Output Shape              Param #   \n",
      "=================================================================\n",
      "conv2d_3 (Conv2D)            (None, 128, 128, 32)      896       \n",
      "_________________________________________________________________\n",
      "max_pooling2d_3 (MaxPooling2 (None, 64, 64, 32)        0         \n",
      "_________________________________________________________________\n",
      "conv2d_4 (Conv2D)            (None, 62, 62, 64)        18496     \n",
      "_________________________________________________________________\n",
      "max_pooling2d_4 (MaxPooling2 (None, 31, 31, 64)        0         \n",
      "_________________________________________________________________\n",
      "conv2d_5 (Conv2D)            (None, 29, 29, 64)        36928     \n",
      "_________________________________________________________________\n",
      "max_pooling2d_5 (MaxPooling2 (None, 14, 14, 64)        0         \n",
      "_________________________________________________________________\n",
      "flatten_1 (Flatten)          (None, 12544)             0         \n",
      "_________________________________________________________________\n",
      "dense_2 (Dense)              (None, 128)               1605760   \n",
      "_________________________________________________________________\n",
      "dropout_1 (Dropout)          (None, 128)               0         \n",
      "_________________________________________________________________\n",
      "dense_3 (Dense)              (None, 1)                 129       \n",
      "=================================================================\n",
      "Total params: 1,662,209\n",
      "Trainable params: 1,662,209\n",
      "Non-trainable params: 0\n",
      "_________________________________________________________________\n"
     ]
    }
   ],
   "source": [
    "model.summary()"
   ]
  },
  {
   "cell_type": "markdown",
   "metadata": {},
   "source": [
    "## 6. Evaluating the model"
   ]
  },
  {
   "cell_type": "code",
   "execution_count": 120,
   "metadata": {},
   "outputs": [],
   "source": [
    "losses = pd.DataFrame(model.history.history)"
   ]
  },
  {
   "cell_type": "code",
   "execution_count": 121,
   "metadata": {},
   "outputs": [
    {
     "data": {
      "text/plain": [
       "<matplotlib.axes._subplots.AxesSubplot at 0x1e6e48fe588>"
      ]
     },
     "execution_count": 121,
     "metadata": {},
     "output_type": "execute_result"
    },
    {
     "data": {
      "image/png": "[encoded data removed]",
      "text/plain": [
       "<Figure size 432x288 with 1 Axes>"
      ]
     },
     "metadata": {
      "needs_background": "light"
     },
     "output_type": "display_data"
    }
   ],
   "source": [
    "losses[['loss', 'val_loss']].plot()"
   ]
  },
  {
   "cell_type": "code",
   "execution_count": 122,
   "metadata": {},
   "outputs": [
    {
     "data": {
      "text/plain": [
       "<matplotlib.axes._subplots.AxesSubplot at 0x1e6df888948>"
      ]
     },
     "execution_count": 122,
     "metadata": {},
     "output_type": "execute_result"
    },
    {
     "data": {
      "image/png": "[encoded data removed]",
      "text/plain": [
       "<Figure size 432x288 with 1 Axes>"
      ]
     },
     "metadata": {
      "needs_background": "light"
     },
     "output_type": "display_data"
    }
   ],
   "source": [
    "losses[['accuracy', 'val_accuracy']].plot()"
   ]
  },
  {
   "cell_type": "markdown",
   "metadata": {},
   "source": [
    "Let's evaluate the model on the test data"
   ]
  },
  {
   "cell_type": "code",
   "execution_count": 123,
   "metadata": {},
   "outputs": [
    {
     "data": {
      "text/plain": [
       "[0.21887622773647308, 0.9350000023841858]"
      ]
     },
     "execution_count": 123,
     "metadata": {},
     "output_type": "execute_result"
    }
   ],
   "source": [
    "model.evaluate_generator(test_image_gen)"
   ]
  },
  {
   "cell_type": "code",
   "execution_count": 124,
   "metadata": {},
   "outputs": [
    {
     "data": {
      "text/plain": [
       "['loss', 'accuracy']"
      ]
     },
     "execution_count": 124,
     "metadata": {},
     "output_type": "execute_result"
    }
   ],
   "source": [
    "model.metrics_names"
   ]
  },
  {
   "cell_type": "markdown",
   "metadata": {},
   "source": [
    "Let's check the classification report."
   ]
  },
  {
   "cell_type": "markdown",
   "metadata": {},
   "source": [
    "The true values are:"
   ]
  },
  {
   "cell_type": "code",
   "execution_count": 125,
   "metadata": {},
   "outputs": [
    {
     "data": {
      "text/plain": [
       "array([0, 0, 0, ..., 1, 1, 1])"
      ]
     },
     "execution_count": 125,
     "metadata": {},
     "output_type": "execute_result"
    }
   ],
   "source": [
    "test_image_gen.classes"
   ]
  },
  {
   "cell_type": "markdown",
   "metadata": {},
   "source": [
    "and the predictions:"
   ]
  },
  {
   "cell_type": "code",
   "execution_count": 126,
   "metadata": {},
   "outputs": [],
   "source": [
    "predictions = model.predict_generator(test_image_gen)"
   ]
  },
  {
   "cell_type": "code",
   "execution_count": 127,
   "metadata": {},
   "outputs": [
    {
     "data": {
      "text/plain": [
       "array([[1.9878695e-07],\n",
       "       [2.9885614e-06],\n",
       "       [5.1771662e-05],\n",
       "       ...,\n",
       "       [9.1058749e-01],\n",
       "       [9.3016237e-01],\n",
       "       [9.5806825e-01]], dtype=float32)"
      ]
     },
     "execution_count": 127,
     "metadata": {},
     "output_type": "execute_result"
    }
   ],
   "source": [
    "predictions"
   ]
  },
  {
   "cell_type": "code",
   "execution_count": 128,
   "metadata": {},
   "outputs": [],
   "source": [
    "predictions = predictions > 0.5"
   ]
  },
  {
   "cell_type": "code",
   "execution_count": 129,
   "metadata": {},
   "outputs": [
    {
     "data": {
      "text/plain": [
       "array([[False],\n",
       "       [False],\n",
       "       [False],\n",
       "       ...,\n",
       "       [ True],\n",
       "       [ True],\n",
       "       [ True]])"
      ]
     },
     "execution_count": 129,
     "metadata": {},
     "output_type": "execute_result"
    }
   ],
   "source": [
    "predictions"
   ]
  },
  {
   "cell_type": "code",
   "execution_count": 130,
   "metadata": {},
   "outputs": [],
   "source": [
    "from sklearn.metrics import classification_report, confusion_matrix"
   ]
  },
  {
   "cell_type": "code",
   "execution_count": 131,
   "metadata": {},
   "outputs": [
    {
     "name": "stdout",
     "output_type": "stream",
     "text": [
      "              precision    recall  f1-score   support\n",
      "\n",
      "           0       0.96      0.91      0.93      1300\n",
      "           1       0.91      0.97      0.94      1300\n",
      "\n",
      "    accuracy                           0.94      2600\n",
      "   macro avg       0.94      0.94      0.94      2600\n",
      "weighted avg       0.94      0.94      0.94      2600\n",
      "\n"
     ]
    }
   ],
   "source": [
    "print(classification_report(test_image_gen.classes, predictions))"
   ]
  },
  {
   "cell_type": "code",
   "execution_count": 132,
   "metadata": {},
   "outputs": [
    {
     "name": "stdout",
     "output_type": "stream",
     "text": [
      "[[1180  120]\n",
      " [  45 1255]]\n"
     ]
    }
   ],
   "source": [
    "print(confusion_matrix(test_image_gen.classes, predictions))"
   ]
  },
  {
   "cell_type": "markdown",
   "metadata": {},
   "source": [
    "### Predicting on an image"
   ]
  },
  {
   "cell_type": "code",
   "execution_count": 136,
   "metadata": {},
   "outputs": [],
   "source": [
    "from tensorflow.keras.preprocessing import image"
   ]
  },
  {
   "cell_type": "code",
   "execution_count": 137,
   "metadata": {},
   "outputs": [
    {
     "data": {
      "text/plain": [
       "'cell_images\\\\test\\\\uninfected\\\\C100P61ThinF_IMG_20150918_144104_cell_34.png'"
      ]
     },
     "execution_count": 137,
     "metadata": {},
     "output_type": "execute_result"
    }
   ],
   "source": [
    "example_uninf_cell"
   ]
  },
  {
   "cell_type": "code",
   "execution_count": 141,
   "metadata": {},
   "outputs": [],
   "source": [
    "pred_image = image.load_img(example_uninf_cell, target_size=image_shape)"
   ]
  },
  {
   "cell_type": "code",
   "execution_count": 142,
   "metadata": {},
   "outputs": [
    {
     "data": {
      "image/png": "[encoded data removed]",
      "text/plain": [
       "<PIL.Image.Image image mode=RGB size=130x130 at 0x1E6E65CDDC8>"
      ]
     },
     "execution_count": 142,
     "metadata": {},
     "output_type": "execute_result"
    }
   ],
   "source": [
    "pred_image"
   ]
  },
  {
   "cell_type": "code",
   "execution_count": 143,
   "metadata": {},
   "outputs": [],
   "source": [
    "pred_image_arr = image.img_to_array(pred_image)"
   ]
  },
  {
   "cell_type": "code",
   "execution_count": 144,
   "metadata": {},
   "outputs": [
    {
     "data": {
      "text/plain": [
       "array([[[0., 0., 0.],\n",
       "        [0., 0., 0.],\n",
       "        [0., 0., 0.],\n",
       "        ...,\n",
       "        [0., 0., 0.],\n",
       "        [0., 0., 0.],\n",
       "        [0., 0., 0.]],\n",
       "\n",
       "       [[0., 0., 0.],\n",
       "        [0., 0., 0.],\n",
       "        [0., 0., 0.],\n",
       "        ...,\n",
       "        [0., 0., 0.],\n",
       "        [0., 0., 0.],\n",
       "        [0., 0., 0.]],\n",
       "\n",
       "       [[0., 0., 0.],\n",
       "        [0., 0., 0.],\n",
       "        [0., 0., 0.],\n",
       "        ...,\n",
       "        [0., 0., 0.],\n",
       "        [0., 0., 0.],\n",
       "        [0., 0., 0.]],\n",
       "\n",
       "       ...,\n",
       "\n",
       "       [[0., 0., 0.],\n",
       "        [0., 0., 0.],\n",
       "        [0., 0., 0.],\n",
       "        ...,\n",
       "        [0., 0., 0.],\n",
       "        [0., 0., 0.],\n",
       "        [0., 0., 0.]],\n",
       "\n",
       "       [[0., 0., 0.],\n",
       "        [0., 0., 0.],\n",
       "        [0., 0., 0.],\n",
       "        ...,\n",
       "        [0., 0., 0.],\n",
       "        [0., 0., 0.],\n",
       "        [0., 0., 0.]],\n",
       "\n",
       "       [[0., 0., 0.],\n",
       "        [0., 0., 0.],\n",
       "        [0., 0., 0.],\n",
       "        ...,\n",
       "        [0., 0., 0.],\n",
       "        [0., 0., 0.],\n",
       "        [0., 0., 0.]]], dtype=float32)"
      ]
     },
     "execution_count": 144,
     "metadata": {},
     "output_type": "execute_result"
    }
   ],
   "source": [
    "pred_image_arr"
   ]
  },
  {
   "cell_type": "code",
   "execution_count": 145,
   "metadata": {},
   "outputs": [
    {
     "data": {
      "text/plain": [
       "(130, 130, 3)"
      ]
     },
     "execution_count": 145,
     "metadata": {},
     "output_type": "execute_result"
    }
   ],
   "source": [
    "pred_image_arr.shape"
   ]
  },
  {
   "cell_type": "code",
   "execution_count": 146,
   "metadata": {},
   "outputs": [],
   "source": [
    "pred_image_arr = np.expand_dims(pred_image_arr, axis=0)"
   ]
  },
  {
   "cell_type": "code",
   "execution_count": 147,
   "metadata": {},
   "outputs": [
    {
     "data": {
      "text/plain": [
       "(1, 130, 130, 3)"
      ]
     },
     "execution_count": 147,
     "metadata": {},
     "output_type": "execute_result"
    }
   ],
   "source": [
    "pred_image_arr.shape"
   ]
  },
  {
   "cell_type": "code",
   "execution_count": 150,
   "metadata": {},
   "outputs": [],
   "source": [
    "pred = model.predict(pred_image_arr)"
   ]
  },
  {
   "cell_type": "code",
   "execution_count": 151,
   "metadata": {},
   "outputs": [
    {
     "data": {
      "text/plain": [
       "array([[0.955738]], dtype=float32)"
      ]
     },
     "execution_count": 151,
     "metadata": {},
     "output_type": "execute_result"
    }
   ],
   "source": [
    "pred"
   ]
  },
  {
   "cell_type": "code",
   "execution_count": 152,
   "metadata": {},
   "outputs": [
    {
     "data": {
      "text/plain": [
       "array([[ True]])"
      ]
     },
     "execution_count": 152,
     "metadata": {},
     "output_type": "execute_result"
    }
   ],
   "source": [
    "pred > 0.5"
   ]
  },
  {
   "cell_type": "code",
   "execution_count": 149,
   "metadata": {},
   "outputs": [
    {
     "data": {
      "text/plain": [
       "{'parasitized': 0, 'uninfected': 1}"
      ]
     },
     "execution_count": 149,
     "metadata": {},
     "output_type": "execute_result"
    }
   ],
   "source": [
    "test_image_gen.class_indices"
   ]
  },
  {
   "cell_type": "markdown",
   "metadata": {},
   "source": [
    "The prediction was correct!"
   ]
  }
 ],
 "metadata": {
  "kernelspec": {
   "display_name": "Python 3",
   "language": "python",
   "name": "python3"
  },
  "language_info": {
   "codemirror_mode": {
    "name": "ipython",
    "version": 3
   },
   "file_extension": ".py",
   "mimetype": "text/x-python",
   "name": "python",
   "nbconvert_exporter": "python",
   "pygments_lexer": "ipython3",
   "version": "3.7.9"
  }
 },
 "nbformat": 4,
 "nbformat_minor": 4
}
